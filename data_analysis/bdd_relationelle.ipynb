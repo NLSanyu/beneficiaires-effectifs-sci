{
 "cells": [
  {
   "cell_type": "markdown",
   "metadata": {},
   "source": [
    "#### Création d'une base de données à partir d'un fichier csv contenant les informations sur les bénéficiaires effectifs"
   ]
  },
  {
   "cell_type": "code",
   "execution_count": 31,
   "metadata": {},
   "outputs": [],
   "source": [
    "import psycopg2\n",
    "import csv"
   ]
  },
  {
   "cell_type": "code",
   "execution_count": 32,
   "metadata": {},
   "outputs": [],
   "source": [
    "# Connexion à la base de données PostgreSQL\n",
    "conn = psycopg2.connect(\n",
    "    dbname=\"rbe\",\n",
    "    user=\"postgres\",\n",
    "    password=\"postgres\",\n",
    "    host=\"localhost\"\n",
    ")"
   ]
  },
  {
   "cell_type": "code",
   "execution_count": 33,
   "metadata": {},
   "outputs": [],
   "source": [
    "# Création d'un curseur pour exécuter des requêtes SQL\n",
    "cur = conn.cursor()"
   ]
  },
  {
   "cell_type": "code",
   "execution_count": 34,
   "metadata": {},
   "outputs": [],
   "source": [
    "# Création de la table des entreprises\n",
    "cur.execute(\"\"\"\n",
    "    CREATE TABLE entreprises (\n",
    "        siren VARCHAR(20) PRIMARY KEY\n",
    "    )\n",
    "\"\"\")"
   ]
  },
  {
   "cell_type": "code",
   "execution_count": 35,
   "metadata": {},
   "outputs": [],
   "source": [
    "# Création de la table des personnes\n",
    "cur.execute(\"\"\"\n",
    "    CREATE TABLE personnes (\n",
    "        unique_key SERIAL PRIMARY KEY,\n",
    "        nom VARCHAR(255),\n",
    "        prenoms VARCHAR(255),\n",
    "        date_naissance VARCHAR(255),\n",
    "        entreprise_siren VARCHAR(20) REFERENCES entreprises(siren)\n",
    "    )\n",
    "\"\"\")"
   ]
  },
  {
   "cell_type": "code",
   "execution_count": 36,
   "metadata": {},
   "outputs": [],
   "source": [
    "# Lecture des données à partir du fichier CSV et insertion dans la base de données\n",
    "with open(\"data/inpi-rbe.csv\", \"r\") as csvfile:\n",
    "    csvreader = csv.reader(csvfile)\n",
    "    next(csvreader)  # Ignorer l'en-tête du CSV\n",
    "    for row in csvreader:\n",
    "        siren, nom, prenoms, date_naissance, unique_key = row\n",
    "        # Insérer les données dans la table entreprises\n",
    "        cur.execute(\"INSERT INTO entreprises (siren) VALUES (%s) ON CONFLICT DO NOTHING\", (siren,))\n",
    "        # Insérer les données dans la table personnes\n",
    "        cur.execute(\"INSERT INTO personnes (nom, prenoms, date_naissance, entreprise_siren) VALUES (%s, %s, %s, %s)\", (nom, prenoms, date_naissance, siren))\n"
   ]
  },
  {
   "cell_type": "code",
   "execution_count": 37,
   "metadata": {},
   "outputs": [],
   "source": [
    "# Valider les modifications dans la base de données\n",
    "conn.commit()"
   ]
  },
  {
   "cell_type": "code",
   "execution_count": 38,
   "metadata": {},
   "outputs": [],
   "source": [
    "# Fermer le curseur et la connexion\n",
    "cur.close()\n",
    "conn.close()"
   ]
  }
 ],
 "metadata": {
  "kernelspec": {
   "display_name": "venv",
   "language": "python",
   "name": "python3"
  },
  "language_info": {
   "codemirror_mode": {
    "name": "ipython",
    "version": 3
   },
   "file_extension": ".py",
   "mimetype": "text/x-python",
   "name": "python",
   "nbconvert_exporter": "python",
   "pygments_lexer": "ipython3",
   "version": "3.11.3"
  }
 },
 "nbformat": 4,
 "nbformat_minor": 2
}
